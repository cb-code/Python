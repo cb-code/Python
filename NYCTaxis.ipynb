{
  "nbformat": 4,
  "nbformat_minor": 0,
  "metadata": {
    "kernelspec": {
      "display_name": "Python [conda env:Anaconda3]",
      "language": "python",
      "name": "conda-env-Anaconda3-py"
    },
    "language_info": {
      "codemirror_mode": {
        "name": "ipython",
        "version": 3
      },
      "file_extension": ".py",
      "mimetype": "text/x-python",
      "name": "python",
      "nbconvert_exporter": "python",
      "pygments_lexer": "ipython3",
      "version": "3.6.3"
    },
    "colab": {
      "name": "New York City Taxi Project..ipynb",
      "provenance": []
    }
  },
  "cells": [
    {
      "cell_type": "markdown",
      "metadata": {
        "collapsed": true,
        "id": "JlFjsfJg0Ob4"
      },
      "source": [
        "## **NYC Taxi Rides**\n",
        "#### **Chloé Blanchard | chb2132 | 5210 Python**\n",
        "\n",
        "\n",
        "*Data Provided by the New York City Taxi and Limousine Commission.*\n",
        "\n",
        "*Full dataset is 170 million taxi trips, 100GB of free space.* \n",
        "*Our subset is 0.5% of all trips, about 850,000 rides.*\n",
        "\n",
        "```\n",
        "Resources:\n",
        "\n",
        "Download the dataset from Cyrille Rossant on GitHub: (https://github.com/ipython-books/minibook-2nd-data)\n",
        "NYC Taxi & Limousine Commission website (http://www.nyc.gov/html/tlc/html/about/trip_record_data.shtml) \n",
        "NYC Gov data description website (http://www.nyc.gov/html/tlc/downloads/pdf/data_dictionary_trip_records_yellow.pdf)\n",
        "Markdown basics (http://daringfireball.net/projects/markdown/basics)\n",
        "```"
      ]
    },
    {
      "cell_type": "code",
      "metadata": {
        "id": "2_8KyP2Z0Ob7"
      },
      "source": [
        "import numpy as np \n",
        "import pandas as pd \n",
        "import matplotlib.pyplot as plt \n",
        "%matplotlib inline\n"
      ],
      "execution_count": null,
      "outputs": []
    },
    {
      "cell_type": "code",
      "metadata": {
        "id": "pJsM4QxO0Ob8"
      },
      "source": [
        "#put your path here\n",
        "\n",
        "data_filename = '../data/nyc_data.csv' "
      ],
      "execution_count": null,
      "outputs": []
    },
    {
      "cell_type": "code",
      "metadata": {
        "collapsed": true,
        "id": "DtvUpUMV0Ob8"
      },
      "source": [
        "data = pd.read_csv(data_filename, \n",
        "                   parse_dates=['pickup_datetime', 'dropoff_datetime'] )"
      ],
      "execution_count": null,
      "outputs": []
    },
    {
      "cell_type": "markdown",
      "metadata": {
        "id": "iOUnHjYJ0Ob9"
      },
      "source": [
        "*head() method of DataFrames displays the first three lines of the table*"
      ]
    },
    {
      "cell_type": "code",
      "metadata": {
        "id": "sCXDiGna0Ob9"
      },
      "source": [
        "data.head()"
      ],
      "execution_count": null,
      "outputs": []
    },
    {
      "cell_type": "markdown",
      "metadata": {
        "id": "vFbc4ObS0Ob9"
      },
      "source": [
        "###**Get the actual coordinates:**\n",
        "\n",
        "*Four DataFrame columns*\n",
        "\n",
        "\n",
        "These four variables are all Series objects:"
      ]
    },
    {
      "cell_type": "code",
      "metadata": {
        "collapsed": true,
        "id": "17ZtHl2y0Ob9"
      },
      "source": [
        "p_lng = data.pickup_longitude\n",
        "p_lat = data.pickup_latitude\n",
        "d_lng = data.dropoff_longitude\n",
        "d_lat = data.dropoff_latitude"
      ],
      "execution_count": null,
      "outputs": []
    },
    {
      "cell_type": "code",
      "metadata": {
        "id": "p-x0W42h0Ob9"
      },
      "source": [
        "# a Series is an indexed list of values\n",
        "\n",
        "p_lng.head()"
      ],
      "execution_count": null,
      "outputs": []
    },
    {
      "cell_type": "code",
      "metadata": {
        "collapsed": true,
        "id": "XoLas6dC0Ob-"
      },
      "source": [
        "# Get the coordinates of points in pixels from geographical coordinates\n",
        "\n",
        "def lat_lng_to_pixels(lat, lng):\n",
        "    lat_rad = lat * np.pi / 180.0\n",
        "    lat_rad = np.log(np.tan((lat_rad + np.pi / 2.0) / 2.0))\n",
        "    x = 100 * (lng + 180.0) / 360.0\n",
        "    y = 100 * (lat_rad - np.pi) / (2.0 * np.pi)\n",
        "    return (x, y)"
      ],
      "execution_count": null,
      "outputs": []
    },
    {
      "cell_type": "code",
      "metadata": {
        "collapsed": true,
        "id": "L7E-bfzz0Ob-"
      },
      "source": [
        "# Get pickup coordinates from pickup latitude and longitude\n",
        "\n",
        "px, py = lat_lng_to_pixels(p_lat, p_lng)\n",
        "py.head()"
      ],
      "execution_count": null,
      "outputs": []
    },
    {
      "cell_type": "markdown",
      "metadata": {
        "id": "SB5pEF0I0Ob-"
      },
      "source": [
        "*Display a scatter plot of pickup locations*\n",
        "\n",
        "Matplotlib scatter function makes a scatter plot of x vs y, where x and y are sequence like objects of the same length."
      ]
    },
    {
      "cell_type": "markdown",
      "metadata": {
        "id": "N8sJmrD41Im2"
      },
      "source": [
        "```\n",
        "Documentation:\n",
        "\n",
        "http://matplotlib.org/api/pyplot_api.html#matplotlib.pyplot.scatter\n",
        "(http://matplotlib.org/api/pyplot_api.html#matplotlib.pyplot.scatter)\n",
        "```"
      ]
    },
    {
      "cell_type": "code",
      "metadata": {
        "id": "nTOE-GjA0Ob_"
      },
      "source": [
        "plt.scatter(px, py)"
      ],
      "execution_count": null,
      "outputs": []
    },
    {
      "cell_type": "markdown",
      "metadata": {
        "id": "6XiANWek0Ob_"
      },
      "source": [
        "### **Customize our plot:**\n",
        "- Make markers smaller\n",
        "- Make fewer points by making some points transparent\n",
        "- Zoom in around Manhattan\n",
        "- Make figure bigger\n",
        "- Don't display the axes\n",
        "\n",
        "*plt or matplotlib.pyplot is a collection of command style functions. Each pyplot function makes some change to a figure: e.g., creates a figure, creates a plotting area in a figure, plots some lines in a plotting area, decorates\n",
        "the plot with labels, etc. ...*"
      ]
    },
    {
      "cell_type": "code",
      "metadata": {
        "collapsed": true,
        "id": "_p24hLsp0Ob_"
      },
      "source": [
        "# Specify the figure size\n",
        "\n",
        "plt.figure(figsize=(8, 6))\n",
        "\n",
        "# s argument is used to make the marker size smaller\n",
        "# alpha specifies opacity\n",
        "\n",
        "plt.scatter(px, py, s=.1, alpha=0.03)\n",
        "\n",
        "# equal aspect ratio\n",
        "\n",
        "plt.axis('equal')\n",
        "\n",
        "# zoom in\n",
        "\n",
        "plt.xlim(29.40, 29.55)\n",
        "plt.ylim(-37.63, -37.54)\n",
        "\n",
        "# remove the axes\n",
        "\n",
        "plt.axis('off')"
      ],
      "execution_count": null,
      "outputs": []
    },
    {
      "cell_type": "markdown",
      "metadata": {
        "id": "4Xi2BYkL0Ob_"
      },
      "source": [
        "### **Display a histogram of the trip distances**\n",
        "\n",
        "```pandas Series hist()``` \n",
        "Draws histogram of the input Series using Matplotlib.\n",
        "\n",
        "```numpy linspace()```\n",
        "Returns evenly spaced numbers over a specified interval.\n",
        "\n",
        "**Parameters:**\n",
        "\n",
        "- start - interval start\n",
        "- stop - interval stop\n",
        "- num - number of numbers\n",
        "- numpy linspace()\n",
        "\n",
        "```\n",
        "Documentation:\n",
        "(https://docs.scipy.org/doc/numpy/reference/generated/numpy.linspace.html)\n",
        "(http://pandas.pydata.org/pandas-docs/stable/generated/pandas.Series.hist.html).\n",
        "```"
      ]
    },
    {
      "cell_type": "code",
      "metadata": {
        "collapsed": true,
        "id": "_5U-JRrn0OcA"
      },
      "source": [
        "bin_array = np.linspace(start=0., stop=10., num=100)\n",
        "bin_array"
      ],
      "execution_count": null,
      "outputs": []
    },
    {
      "cell_type": "code",
      "metadata": {
        "collapsed": true,
        "id": "TW1T-_P20OcA"
      },
      "source": [
        "data.trip_distance.hist(bins=bin_array)"
      ],
      "execution_count": null,
      "outputs": []
    },
    {
      "cell_type": "markdown",
      "metadata": {
        "id": "fXeGTUwC0OcA"
      },
      "source": [
        "### **Filter with boolean indexing**\n",
        "\n",
        "*Select long rides*"
      ]
    },
    {
      "cell_type": "code",
      "metadata": {
        "id": "fLU3TMC20gPS"
      },
      "source": [
        "data.loc[data.trip_distance > 100]\n",
        "#End"
      ],
      "execution_count": null,
      "outputs": []
    }
  ]
}

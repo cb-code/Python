{
  "nbformat": 4,
  "nbformat_minor": 0,
  "metadata": {
    "kernelspec": {
      "display_name": "Python 3",
      "language": "python",
      "name": "python3"
    },
    "language_info": {
      "codemirror_mode": {
        "name": "ipython",
        "version": 3
      },
      "file_extension": ".py",
      "mimetype": "text/x-python",
      "name": "python",
      "nbconvert_exporter": "python",
      "pygments_lexer": "ipython3",
      "version": "3.7.6"
    },
    "colab": {
      "name": "Extra_Credit_chb2132_Chloe_Blanchard-1.ipynb",
      "provenance": []
    }
  },
  "cells": [
    {
      "cell_type": "markdown",
      "metadata": {
        "id": "2eaWWOXe7UCR"
      },
      "source": [
        "# Name: Chloé Blanchard               \n",
        "\n",
        "## UNI: chb2132\n",
        "\n",
        "### Python for Data Analysis Summer 2020 Extra Credit (Total = 10 pts)\n",
        "    \n",
        "#### As a university, keeping track of students and faculty are one of the major logistical issues it faces on a quarterly basis.  \n",
        "\n",
        "##### You are to complete the following tasks:\n",
        "\t•\tValidate results by running the following code in your Jupyter notebooks. \n",
        "            --> Note: Indentation is your responsibility within Jupyter notebook. \n",
        "\t•\tAnswer questions based on running the code.  "
      ]
    },
    {
      "cell_type": "code",
      "metadata": {
        "id": "THmPcmBF7UCU"
      },
      "source": [
        "class Student(object):\n",
        "    def __init__(self, ID, Name):\n",
        "        self._ID=ID\n",
        "        self._Name=Name\n",
        "\n",
        "    def getStudentID(self):\n",
        "        return self._ID\n",
        "    \n",
        "    def getStudentName(self):\n",
        "        return self._Name\n",
        "    \n",
        "    def setBirthday(self,birthdate):\n",
        "        self._birthday=birthdate\n",
        "\n",
        "    def getBirthday(self):\n",
        "        return self._birthday"
      ],
      "execution_count": null,
      "outputs": []
    },
    {
      "cell_type": "code",
      "metadata": {
        "id": "1IaHZ_8c7UCV"
      },
      "source": [
        "class ColumbiaStudent(Student):\n",
        "    def __init__(self, ID, Name, Course):\n",
        "        Student(ID, Name)\n",
        "        self._Course=Course\n",
        "\n",
        "    def setAddress(self, Address):\n",
        "        self._Address = Address\n",
        "\n",
        "    def getAddress(self):\n",
        "        return self._Address\n",
        "\n",
        "    def setCourse(self, Course):\n",
        "        self._Course=Course\n",
        "\n",
        "    def getCourse(self):\n",
        "        return self._Course"
      ],
      "execution_count": null,
      "outputs": []
    },
    {
      "cell_type": "markdown",
      "metadata": {
        "id": "Z4BQrRys7UCW"
      },
      "source": [
        "Question: Which of the following is required to create a new instance of a class? (1 pt)      \n",
        "\n",
        "\t•\tA. Class\n",
        "\t•\tB. Value returning method\n",
        "\t•\tC. Constructor\n",
        "\t•\tD. None of the above\n",
        "\n",
        "    Answer: C. Constructor"
      ]
    },
    {
      "cell_type": "markdown",
      "metadata": {
        "id": "dV3ZEyQX7UCW"
      },
      "source": [
        "Question: Which of the following represents a template, blueprint, or contract that defines objects of the same type?  (1 pt)                         \n",
        "\n",
        "\t•\tA. A data field\n",
        "\t•\tB. A returning value method\n",
        "\t•\tC. An object\n",
        "\t•\tD. A class\n",
        "    \n",
        "    Answer: D. A Class"
      ]
    },
    {
      "cell_type": "markdown",
      "metadata": {
        "id": "J7XoGa9M7UCX"
      },
      "source": [
        "An argument is supplied to the __init__ function, whenever a Student is instantiated. (1 pt)   \n",
        "\n",
        "\t•\tA. True\n",
        "\t•\tB. False\n",
        "    \n",
        "    Answer: A. True"
      ]
    },
    {
      "cell_type": "markdown",
      "metadata": {
        "id": "Pr2nP_-S7UCX"
      },
      "source": [
        "You want to add a Student to the class, his name is ‘Elvis Lowell’.  How would you go about doing this? (1 pt)\n",
        "\n",
        "\t•\tA. Student(‘Elvis’)\n",
        "\t•\tB. Student(‘Elvis’) and then Student(‘Lowell’)\n",
        "\t•\tC. Student(1, 'Elvis Lowell')\n",
        "\t•\tD. None of the Above\n",
        "    \n",
        "    Answer: C. Student(1, 'Elvis Lowell')"
      ]
    },
    {
      "cell_type": "code",
      "metadata": {
        "id": "dR7EzJU47UCX"
      },
      "source": [
        "s1 = Student(1, 'Elvis Lowell')"
      ],
      "execution_count": null,
      "outputs": []
    },
    {
      "cell_type": "markdown",
      "metadata": {
        "id": "icSZSZj27UCY"
      },
      "source": [
        "Question: Suppose s1 is an instance of class Student.\n",
        "          Which code would you use to retrive the full name ? (1 pt)                       \n",
        "\n",
        "\t•\tA.  s1.getStudentName\n",
        "\t•\tB.  s1.getStudentName()\n",
        "\t•\tC.  Both A & B\n",
        "\t•\tD.  None of the above.\n",
        "    \n",
        "    Answer: B.  s1.getStudentName()"
      ]
    },
    {
      "cell_type": "code",
      "metadata": {
        "id": "1QWuDDgH7UCY",
        "outputId": "55107b67-1f2c-4f9b-d84b-e9b3a99e7731"
      },
      "source": [
        "s1.getStudentName()"
      ],
      "execution_count": null,
      "outputs": [
        {
          "output_type": "execute_result",
          "data": {
            "text/plain": [
              "'Elvis Lowell'"
            ]
          },
          "metadata": {
            "tags": []
          },
          "execution_count": 12
        }
      ]
    },
    {
      "cell_type": "code",
      "metadata": {
        "id": "uioL2PBU7UCZ",
        "outputId": "56d54608-c2b6-4b34-8640-a1740f007283"
      },
      "source": [
        "s1.getStudentName"
      ],
      "execution_count": null,
      "outputs": [
        {
          "output_type": "execute_result",
          "data": {
            "text/plain": [
              "<bound method Student.getStudentName of <__main__.Student object at 0x7f9bae4ef310>>"
            ]
          },
          "metadata": {
            "tags": []
          },
          "execution_count": 13
        }
      ]
    },
    {
      "cell_type": "markdown",
      "metadata": {
        "id": "2d1rQzBT7UCZ"
      },
      "source": [
        "Now, you want to add his birthday.  \n",
        "Do this by using the following:"
      ]
    },
    {
      "cell_type": "code",
      "metadata": {
        "id": "QtyHSsCk7UCZ",
        "outputId": "8dd855e9-592e-4554-be05-0e8c3fcc7104"
      },
      "source": [
        "s1.setBirthday(\"07-31-1980\")\n",
        "\n",
        "print(s1.setBirthday(\"07-31-1980\"))"
      ],
      "execution_count": null,
      "outputs": [
        {
          "output_type": "stream",
          "text": [
            "None\n"
          ],
          "name": "stdout"
        }
      ]
    },
    {
      "cell_type": "markdown",
      "metadata": {
        "id": "ASqSipHk7UCa"
      },
      "source": [
        "Question: Printing the above command will give you the birthday.  (T or F?) (1 pt)    \n",
        "\n",
        "\t•\tA. True\n",
        "\t•\tB. False\n",
        "    \n",
        "    Answer: B. False"
      ]
    },
    {
      "cell_type": "markdown",
      "metadata": {
        "id": "EREQcwje7UCa"
      },
      "source": [
        "You want to add a Columbia Student to the class, her name is 'Lin Cheng' ID is 2 and Course is Python. \n",
        "\n",
        "Question: How would you go about doing this? (1 pt)    \n",
        " \n",
        "\t•\tA. ColumbiaStudent('2','Lin Cheng',‘Python’)\n",
        "\t•\tB. ColumbiaStudent(‘Lin’) AND then Student(‘Cheng’)\n",
        "\t•\tC. Student('1', 'Lin Cheng')\n",
        "\t•\tD. None of the above\n",
        "    \n",
        "    Answer: A. ColumbiaStudent('2','Lin Cheng',‘Python’)"
      ]
    },
    {
      "cell_type": "code",
      "metadata": {
        "id": "8Sosq_697UCa",
        "outputId": "05a0e40c-fca2-499f-a538-fbd187cd304a"
      },
      "source": [
        "ColumbiaStudent('2', 'Lin Cheng', 'Python')"
      ],
      "execution_count": null,
      "outputs": [
        {
          "output_type": "execute_result",
          "data": {
            "text/plain": [
              "<__main__.ColumbiaStudent at 0x7f9bae4e8fd0>"
            ]
          },
          "metadata": {
            "tags": []
          },
          "execution_count": 7
        }
      ]
    },
    {
      "cell_type": "markdown",
      "metadata": {
        "id": "tbMx-CWr7UCa"
      },
      "source": [
        "Use code below to answer questions 8, 9 and 10:"
      ]
    },
    {
      "cell_type": "code",
      "metadata": {
        "id": "RZM58dyw7UCa"
      },
      "source": [
        "class Customer(object):\n",
        "\n",
        "    def __init__(self, name):\n",
        "        self.name = name\n",
        "\n",
        "    def set_balance(self, balance=0.0):\n",
        "        self.balance = balance\n",
        "\n",
        "    def withdraw(self, amount):\n",
        "        if amount > self.balance:\n",
        "            print('Amount greater than available balance.')\n",
        "            self.balance -= amount\n",
        "            return self.balance\n",
        "\n",
        "    def deposit(self, amount):\n",
        "        self.balance += amount\n",
        "        return self.balance"
      ],
      "execution_count": null,
      "outputs": []
    },
    {
      "cell_type": "code",
      "metadata": {
        "id": "-Dev6q2b7UCa",
        "outputId": "d8231350-61df-4f9f-847d-426531ad3a0f"
      },
      "source": [
        "cust1 = Customer('Helga')\n",
        "cust1.set_balance(20000.00)\n",
        "bal = cust1.withdraw(1000.00)\n",
        "print(\"Helga- Balance = \", bal)"
      ],
      "execution_count": null,
      "outputs": [
        {
          "output_type": "stream",
          "text": [
            "Helga- Balance =  None\n"
          ],
          "name": "stdout"
        }
      ]
    },
    {
      "cell_type": "markdown",
      "metadata": {
        "id": "QEmhEwnp7UCb"
      },
      "source": [
        "Question: Which is the output of the code above? (1 pt)\n",
        "\n",
        "\t•\tA. Helga- Balance = 1000\n",
        "\t•\tB. Helga- Balance = 20000\n",
        "\t•\tC. Balance = 2000\n",
        "\t•\tD. Helga- Balance = 19000\n",
        "\t•\tE. None of the above\n",
        "    \n",
        "    Answer: E. None of the above"
      ]
    },
    {
      "cell_type": "code",
      "metadata": {
        "id": "UB1BFT8_7UCb",
        "outputId": "9c2ec69c-5d29-4dec-e640-583737cd91e8"
      },
      "source": [
        "cust2 = Customer('Jose')\n",
        "cust2.set_balance(45000)\n",
        "bal2 = cust2.deposit(5000)\n",
        "print(\"Jose- Balance = \", bal2)"
      ],
      "execution_count": null,
      "outputs": [
        {
          "output_type": "stream",
          "text": [
            "Jose- Balance =  50000\n"
          ],
          "name": "stdout"
        }
      ]
    },
    {
      "cell_type": "markdown",
      "metadata": {
        "id": "Vb0fEqBM7UCb"
      },
      "source": [
        "Question: What is the output of the code above? (1 pt)    \n",
        "\n",
        "\t•\tA. Jose- Balance = 45000\n",
        "\t•\tB. Jose- Balance = 50000\n",
        "\t•\tC. Jose- Balance = 5000\n",
        "\t•\tD. None of the Above\n",
        "    \n",
        "    Answer: B. Jose- Balance = 50000"
      ]
    },
    {
      "cell_type": "code",
      "metadata": {
        "id": "KeMQzsU97UCb",
        "outputId": "a283f1c8-e779-4dcf-b33c-44f15259208b"
      },
      "source": [
        "cust3 = Customer('Sophie')\n",
        "cust3.set_balance(30000)\n",
        "bal3 = cust3.withdraw(35000)\n",
        "print(\"Sophie- Balance = \", bal3)"
      ],
      "execution_count": null,
      "outputs": [
        {
          "output_type": "stream",
          "text": [
            "Amount greater than available balance.\n",
            "Sophie- Balance =  -5000\n"
          ],
          "name": "stdout"
        }
      ]
    },
    {
      "cell_type": "markdown",
      "metadata": {
        "id": "oLQUVNMD7UCc"
      },
      "source": [
        "Question: What is the output of the code above?  (1 pt)\n",
        "\n",
        "\t•\tA. Amount greater than available balance.\n",
        "\t•\tB. Amount greater than available balance.\n",
        "            Sophie- Balance = -5000\n",
        "\t•\tC. Sophie- Balance = 30000\n",
        "\t•\tD. None of the above\n",
        "    \n",
        "    Answer: B. Amount greater than available balance.\n",
        "               Sophie- Balance = -5000"
      ]
    }
  ]
}
